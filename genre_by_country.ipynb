{
 "cells": [
  {
   "cell_type": "code",
   "execution_count": 1,
   "metadata": {},
   "outputs": [],
   "source": [
    "import pandas as pd; import numpy as np; import os"
   ]
  },
  {
   "cell_type": "code",
   "execution_count": 5,
   "metadata": {},
   "outputs": [
    {
     "name": "stdout",
     "output_type": "stream",
     "text": [
      "Index(['show_id', 'type', 'title', 'director', 'cast', 'country', 'date_added',\n",
      "       'release_year', 'rating', 'duration', 'listed_in', 'description'],\n",
      "      dtype='object')\n"
     ]
    }
   ],
   "source": [
    "input_csv = './netflix_titles.csv'\n",
    "df = pd.read_csv(input_csv)\n",
    "print(df.columns)\n",
    "df = df[df['country'].notna()] #drop rows where country val. is nan"
   ]
  },
  {
   "attachments": {},
   "cell_type": "markdown",
   "metadata": {},
   "source": [
    "Create country-wise dataframes. We choose 3 countries: United State, India, and United Kingdom. Previous 'Netflix shows by map'(check Netflix Map dashboard in Tableau) analysis has shown these 3 nations have the greater number of shows on Netflix library."
   ]
  },
  {
   "cell_type": "code",
   "execution_count": 10,
   "metadata": {},
   "outputs": [],
   "source": [
    "def get_data_for_country(df_, country_name='United States'):\n",
    "    df_country = df_[df_.country.str.contains(country_name)].copy()\n",
    "    df_country['country'] = country_name\n",
    "    return df_country"
   ]
  },
  {
   "cell_type": "code",
   "execution_count": 13,
   "metadata": {},
   "outputs": [],
   "source": [
    "country_name = 'United States'\n",
    "df_usa = get_data_for_country(df)\n",
    "df_uk = get_data_for_country(df, country_name='United Kingdom')\n",
    "df_india = get_data_for_country(df, country_name='India')"
   ]
  },
  {
   "cell_type": "code",
   "execution_count": 17,
   "metadata": {},
   "outputs": [],
   "source": [
    "df_usa.to_csv('data_by_country/usa_netflix.csv', index=False)\n",
    "df_uk.to_csv('data_by_country/uk_netflix.csv', index=False)\n",
    "df_india.to_csv('data_by_country/india_netflix.csv', index=False)"
   ]
  }
 ],
 "metadata": {
  "kernelspec": {
   "display_name": "selise",
   "language": "python",
   "name": "python3"
  },
  "language_info": {
   "codemirror_mode": {
    "name": "ipython",
    "version": 3
   },
   "file_extension": ".py",
   "mimetype": "text/x-python",
   "name": "python",
   "nbconvert_exporter": "python",
   "pygments_lexer": "ipython3",
   "version": "3.6.13"
  },
  "orig_nbformat": 4
 },
 "nbformat": 4,
 "nbformat_minor": 2
}
